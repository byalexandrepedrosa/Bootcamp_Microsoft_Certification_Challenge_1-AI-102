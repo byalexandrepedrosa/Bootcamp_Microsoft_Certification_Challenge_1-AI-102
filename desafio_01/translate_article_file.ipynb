{
  "nbformat": 4,
  "nbformat_minor": 0,
  "metadata": {
    "colab": {
      "provenance": []
    },
    "kernelspec": {
      "name": "python3",
      "display_name": "Python 3"
    },
    "language_info": {
      "name": "python"
    }
  },
  "cells": [
    {
      "cell_type": "markdown",
      "source": [],
      "metadata": {
        "id": "qormb-Md8aQx"
      }
    },
    {
      "cell_type": "markdown",
      "source": [
        "# Instalação das dependências"
      ],
      "metadata": {
        "id": "q0S1ZCKc8g5q"
      }
    },
    {
      "cell_type": "code",
      "execution_count": 1,
      "metadata": {
        "id": "rfeqUkk87VwP",
        "colab": {
          "base_uri": "https://localhost:8080/"
        },
        "outputId": "ecde3d13-e0df-494e-df36-2b7d00766b90"
      },
      "outputs": [
        {
          "output_type": "stream",
          "name": "stdout",
          "text": [
            "Requirement already satisfied: requests in /usr/local/lib/python3.10/dist-packages (2.32.3)\n",
            "Requirement already satisfied: python-docx in /usr/local/lib/python3.10/dist-packages (1.1.2)\n",
            "Requirement already satisfied: charset-normalizer<4,>=2 in /usr/local/lib/python3.10/dist-packages (from requests) (3.4.0)\n",
            "Requirement already satisfied: idna<4,>=2.5 in /usr/local/lib/python3.10/dist-packages (from requests) (3.10)\n",
            "Requirement already satisfied: urllib3<3,>=1.21.1 in /usr/local/lib/python3.10/dist-packages (from requests) (2.2.3)\n",
            "Requirement already satisfied: certifi>=2017.4.17 in /usr/local/lib/python3.10/dist-packages (from requests) (2024.8.30)\n",
            "Requirement already satisfied: lxml>=3.1.0 in /usr/local/lib/python3.10/dist-packages (from python-docx) (5.3.0)\n",
            "Requirement already satisfied: typing-extensions>=4.9.0 in /usr/local/lib/python3.10/dist-packages (from python-docx) (4.12.2)\n"
          ]
        }
      ],
      "source": [
        "!pip install requests python-docx\n"
      ]
    },
    {
      "cell_type": "code",
      "source": [
        "import requests\n",
        "from docx import Document\n",
        "import os"
      ],
      "metadata": {
        "id": "4x6TcXBg8Zyo"
      },
      "execution_count": 2,
      "outputs": []
    },
    {
      "cell_type": "markdown",
      "source": [
        "## Constantes"
      ],
      "metadata": {
        "id": "jvPq7cGw9kRz"
      }
    },
    {
      "cell_type": "code",
      "source": [
        "subscription_key = 'INSIRA_SUA_KEY'\n",
        "endpoint = 'https://api.cognitive.microsofttranslator.com/'\n",
        "location = 'eastus2'\n",
        "target_language = 'pt-br'"
      ],
      "metadata": {
        "id": "xjrhBejz9m67"
      },
      "execution_count": 3,
      "outputs": []
    },
    {
      "cell_type": "markdown",
      "source": [
        "## Funções"
      ],
      "metadata": {
        "id": "YV9S6tsYdkby"
      }
    },
    {
      "cell_type": "code",
      "source": [
        "def translator_text(text, target_language):\n",
        "  path = '/translate'\n",
        "  constructed_url = endpoint + path\n",
        "  headers = {\n",
        "      'Ocp-Apim-Subscription-Key': subscription_key,\n",
        "      'Ocp-Apim-Subscription-Region': location,\n",
        "      'Content-type': 'application/json',\n",
        "      'X-ClientTraceId': str(os.urandom(16))\n",
        "  }\n",
        "  body = [{\n",
        "      'text': text\n",
        "  }]\n",
        "  params = {\n",
        "      'api-version': '3.0',\n",
        "      'from': 'en',\n",
        "      'to': [target_language]\n",
        "  }\n",
        "  request = requests.post(constructed_url, params=params, headers=headers, json=body)\n",
        "  response = request.json()\n",
        "  return response[0]['translations'][0]['text']\n",
        "\n",
        "def translator_document(path):\n",
        "  document = Document(path)\n",
        "  full_text = []\n",
        "  for paragraph in document.paragraphs:\n",
        "    translated_text = translator_text(paragraph.text, target_language)\n",
        "    full_text.append(translated_text)\n",
        "\n",
        "  translated_doc = Document()\n",
        "  for line in full_text:\n",
        "    translated_doc.add_paragraph(line)\n",
        "  path_translated = path.replace('.docx', f\"-translated-{target_language}.docx\")\n",
        "  translated_doc.save(path_translated)\n",
        "  return path_translated"
      ],
      "metadata": {
        "id": "uoMiM4Dd_B3n"
      },
      "execution_count": 4,
      "outputs": []
    },
    {
      "cell_type": "code",
      "source": [
        "input_file = \"/content/About_Venus_project_Direction.docx\""
      ],
      "metadata": {
        "id": "4Z-2qsIZHTe_"
      },
      "execution_count": 5,
      "outputs": []
    },
    {
      "cell_type": "code",
      "source": [
        "translator_document(input_file)"
      ],
      "metadata": {
        "colab": {
          "base_uri": "https://localhost:8080/",
          "height": 35
        },
        "id": "Nv-R_gXoHn_3",
        "outputId": "300401fb-1d4e-418d-a475-f7a5a667fc30"
      },
      "execution_count": 6,
      "outputs": [
        {
          "output_type": "execute_result",
          "data": {
            "text/plain": [
              "'/content/About_Venus_project_Direction-translated-pt-br.docx'"
            ],
            "application/vnd.google.colaboratory.intrinsic+json": {
              "type": "string"
            }
          },
          "metadata": {},
          "execution_count": 6
        }
      ]
    }
  ]
}